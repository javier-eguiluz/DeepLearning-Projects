{
  "nbformat": 4,
  "nbformat_minor": 0,
  "metadata": {
    "colab": {
      "name": "CIFAR_10_ConvolutionalNN.ipynb",
      "provenance": [],
      "collapsed_sections": [
        "4iDat0AWkYtw"
      ]
    },
    "kernelspec": {
      "name": "python3",
      "display_name": "Python 3"
    },
    "language_info": {
      "name": "python"
    }
  },
  "cells": [
    {
      "cell_type": "markdown",
      "source": [
        "# **Creating a Convolutional Neural Network for image classification with PyTorch**"
      ],
      "metadata": {
        "id": "ynUvKvOQikPn"
      }
    },
    {
      "cell_type": "markdown",
      "source": [
        "Author: Javier Eguíluz Romero"
      ],
      "metadata": {
        "id": "AHiCM-QZkO0l"
      }
    },
    {
      "cell_type": "markdown",
      "source": [
        "This notebook contains the code to create and train a convolutional neural network that reads and classifies images from the [CIFAR-10 dataset](https://www.cs.toronto.edu/~kriz/cifar.html). Prior to the data loading and training there're some definitions of functions that will help with the processes.\n",
        "\n",
        "I have added some interesting stuff: the data is normalized, the training can be done in parallel and it is possible to visualize the preformance for every class.\n",
        "\n"
      ],
      "metadata": {
        "id": "DPWD-IM8N1sp"
      }
    },
    {
      "cell_type": "markdown",
      "source": [
        "## Libraries and Settings"
      ],
      "metadata": {
        "id": "4iDat0AWkYtw"
      }
    },
    {
      "cell_type": "code",
      "execution_count": null,
      "metadata": {
        "id": "sCCneT_mSEhz"
      },
      "outputs": [],
      "source": [
        "import torch\n",
        "import numpy as np\n",
        "import torch.nn.functional as F\n",
        "import matplotlib.pyplot as plt\n",
        "from torchvision import datasets, transforms\n",
        "from torchvision.utils import make_grid\n",
        "from torch.utils.data import DataLoader\n",
        "from torch import nn\n",
        "from torch.optim import Adam, SGD\n",
        "from tqdm import tqdm"
      ]
    },
    {
      "cell_type": "code",
      "source": [
        "device = torch.device('cuda' if torch.cuda.is_available() else 'cpu')"
      ],
      "metadata": {
        "id": "a_q_8V1EYhTa"
      },
      "execution_count": null,
      "outputs": []
    },
    {
      "cell_type": "markdown",
      "source": [
        "## Function definitions"
      ],
      "metadata": {
        "id": "cw3E1X53lBcy"
      }
    },
    {
      "cell_type": "markdown",
      "source": [
        "### Definition of the Neural Network"
      ],
      "metadata": {
        "id": "L1PT6oG4lW5p"
      }
    },
    {
      "cell_type": "code",
      "source": [
        "# Architecture of the CNN.\n",
        "\n",
        "class CNN(nn.Module):\n",
        "  def __init__(self):\n",
        "    super(CNN, self).__init__()\n",
        "    self.conv1 = nn.Conv2d(3,6,5) # The input is 3 because of the images are in 3-color base.\n",
        "    self.pool = nn.MaxPool2d(2,2)\n",
        "    self.conv2 = nn.Conv2d(6, 16, 5)\n",
        "    self.fc1 = nn.Linear(16*5*5, 120)\n",
        "    self.fc1 = nn.Linear(16*5*5, 120)\n",
        "    self.fc2 = nn.Linear(120, 84)\n",
        "    self.fc3 = nn.Linear(84, 10)\n",
        "\n",
        "  def forward(self, x):\n",
        "    # Cheat note for output in a convolutional layer: (INPUT-FILTER + 2*PADDING)/STRIDE+1\n",
        "    # Output (32-5+2*0)/1+1=28 then 28x28\n",
        "    x = F.relu(self.conv1(x))\n",
        "    x = self.pool(x)\n",
        "    x = F.relu(self.conv2(x))\n",
        "    x = self.pool(x)\n",
        "    x = x.view(-1, 16*5*5) # Flatten the tensor to feed the output to the linear layers\n",
        "    x = F.relu(self.fc1(x))\n",
        "    x = F.relu(self.fc2(x))\n",
        "    x = self.fc3(x)\n",
        "    return x"
      ],
      "metadata": {
        "id": "D9ARxzvLOG5r"
      },
      "execution_count": 20,
      "outputs": []
    },
    {
      "cell_type": "markdown",
      "source": [
        "### Helper Functions"
      ],
      "metadata": {
        "id": "K87KRLxElj4i"
      }
    },
    {
      "cell_type": "code",
      "source": [
        "# Loads the data from the MNIST dataset and prepares it in batches of size \"batch_size\". If \"train_bool\" is true, it retrieves the training data, otherwise it gets the testing data.\n",
        "def LoadData(batch_size, transform, train_bool=True):\n",
        "  data = DataLoader(\n",
        "      datasets.CIFAR10(root='dataset/', train=train_bool, transform=transform, download=True),\n",
        "      batch_size=batch_size, \n",
        "      shuffle=train_bool)    \n",
        "  return data"
      ],
      "metadata": {
        "id": "k-zxO0mvS__m"
      },
      "execution_count": null,
      "outputs": []
    },
    {
      "cell_type": "code",
      "source": [
        "# Trains the NN taking the training data through as many epochs as defined. The backward method can be changed.\n",
        "def train(data_train, model, criterion, optimizer, epochs):\n",
        "  for epoch in tqdm(range(epochs)):\n",
        "    for data, targets in data_train:\n",
        "      data = data.to(device)\n",
        "      targets = targets.to(device)\n",
        "\n",
        "      # forward\n",
        "      scores = model(data)\n",
        "      loss = criterion(scores, targets)\n",
        "\n",
        "      #backward\n",
        "      optimizer.zero_grad()\n",
        "      loss.backward()\n",
        "      optimizer.step()"
      ],
      "metadata": {
        "id": "93ngcsNO-bW_"
      },
      "execution_count": null,
      "outputs": []
    },
    {
      "cell_type": "code",
      "source": [
        "# Provides with the performance of the model via the parameters: Precision, Recall and the F1 score for each one of the classes.\n",
        "def performance_metrics(model, dataset):\n",
        "  true_positives = [0]*10\n",
        "  false_negatives = [0]*10\n",
        "  false_positives = [0]*10\n",
        "\n",
        "  model.eval()\n",
        "  with torch.no_grad():\n",
        "    for data, targets in dataset:\n",
        "      data = data.to(device)\n",
        "      targets = targets.to(device)\n",
        "\n",
        "      scores = model(data)\n",
        "      _, predicted = scores.max(1)\n",
        "\n",
        "      for i in range(targets.size()[0]):\n",
        "        actual_value = targets[i]\n",
        "        predicted_value = predicted[i]\n",
        "\n",
        "        if predicted_value == actual_value:\n",
        "          true_positives[actual_value] += 1\n",
        "        else:\n",
        "          false_negatives[actual_value] += 1\n",
        "          false_positives[predicted_value] += 1\n",
        "\n",
        "  model.train()\n",
        "\n",
        "  #precision\n",
        "  precision = np.divide( true_positives, np.add(true_positives,false_positives) )\n",
        "  #recall\n",
        "  recall = np.divide( true_positives, np.add(true_positives,false_negatives) )\n",
        "  #F1 Score\n",
        "  F1_score = 2*np.divide( np.multiply(precision,recall), np.add(precision,recall) )\n",
        "\n",
        "  return precision, recall, F1_score"
      ],
      "metadata": {
        "id": "ye2NYH7itg-2"
      },
      "execution_count": null,
      "outputs": []
    },
    {
      "cell_type": "markdown",
      "source": [
        "## Training and evaluation of the Neural Network"
      ],
      "metadata": {
        "id": "zUnwvJ9rlr7M"
      }
    },
    {
      "cell_type": "code",
      "source": [
        "# Definition of parameters.\n",
        "learning_rate = 0.001\n",
        "epochs = 5\n",
        "batch_size = 4"
      ],
      "metadata": {
        "id": "c0Mkg7PXM405"
      },
      "execution_count": null,
      "outputs": []
    },
    {
      "cell_type": "markdown",
      "source": [
        "### Loading the data from the CIFAR-10 Dataset"
      ],
      "metadata": {
        "id": "nmhQuphGl4ii"
      }
    },
    {
      "cell_type": "code",
      "source": [
        "# Load the data.\n",
        "\n",
        "transform = transforms.Compose([transforms.ToTensor(), transforms.Normalize((0.5, 0.5, 0.5), (0.5, 0.5, 0.5))]) # Normalization of the data\n",
        "\n",
        "train_data = LoadData(batch_size, transform, train_bool=True)\n",
        "test_data = LoadData(batch_size, transform, train_bool=False)\n",
        "classes = ('plane', 'car', 'bird', 'cat', 'deer', 'dog', 'frog', 'horse', 'ship', 'truck')"
      ],
      "metadata": {
        "id": "mf1im6HZURMB",
        "colab": {
          "base_uri": "https://localhost:8080/"
        },
        "outputId": "1b2ad276-6749-4c05-dc4e-172b0d0b89a1"
      },
      "execution_count": 22,
      "outputs": [
        {
          "output_type": "stream",
          "name": "stdout",
          "text": [
            "Files already downloaded and verified\n",
            "Files already downloaded and verified\n"
          ]
        }
      ]
    },
    {
      "cell_type": "markdown",
      "source": [
        "### Training of the model"
      ],
      "metadata": {
        "id": "UICGHf3-mBbC"
      }
    },
    {
      "cell_type": "code",
      "source": [
        "# Define the model\n",
        "\n",
        "model = CNN()\n",
        "if torch.cuda.device_count() > 1:\n",
        "  print(\"There are \", torch.cuda.device_count(), \"GPUs available to work.\")\n",
        "  model = nn.DataParallel(model)  # This allows us to train the model parallely if there is more than one GPU.\n",
        "\n",
        "model.to(device)\n",
        "\n",
        "criterion = nn.CrossEntropyLoss()\n",
        "optimizer = SGD(model.parameters(), lr=learning_rate)"
      ],
      "metadata": {
        "id": "UpqdW7gHUWZL"
      },
      "execution_count": 21,
      "outputs": []
    },
    {
      "cell_type": "code",
      "source": [
        "train(train_data, model, criterion, optimizer, epochs)"
      ],
      "metadata": {
        "colab": {
          "base_uri": "https://localhost:8080/"
        },
        "id": "37fNSh8jhzuL",
        "outputId": "4bb3d671-606a-4f3d-da48-8a2538409a43"
      },
      "execution_count": 23,
      "outputs": [
        {
          "output_type": "stream",
          "name": "stderr",
          "text": [
            "100%|██████████| 5/5 [02:45<00:00, 33.17s/it]\n"
          ]
        }
      ]
    },
    {
      "cell_type": "markdown",
      "source": [
        "### Testing of the model"
      ],
      "metadata": {
        "id": "tQduLfCbmHVl"
      }
    },
    {
      "cell_type": "code",
      "source": [
        "# Get the performance\n",
        "\n",
        "precision, recall, F1_score = performance_metrics(model,test_data)\n",
        "print(f'The performance of the model on the test data gives these averaged values: Precision: {np.mean(precision)*100:.2f}%, Recall: {np.mean(recall)*100:.2f}%, F1 score: {np.mean(F1_score):.4f}.')"
      ],
      "metadata": {
        "colab": {
          "base_uri": "https://localhost:8080/"
        },
        "id": "KitX8x3yxYZs",
        "outputId": "039b98b7-a337-442d-dbad-269c622cdd89"
      },
      "execution_count": 24,
      "outputs": [
        {
          "output_type": "stream",
          "name": "stdout",
          "text": [
            "The performance of the model on the test data gives these averaged values: Precision: 44.09%, Recall: 43.84%, F1 score: 0.4159.\n"
          ]
        }
      ]
    },
    {
      "cell_type": "code",
      "source": [
        "#Plot of the performance per class\n",
        "\n",
        "fig, (ax1, ax2, ax3) = plt.subplots(1, 3, figsize = (20, 7))\n",
        " \n",
        "# creating the bar plots\n",
        "ax1.bar(classes, precision, color ='maroon', width = 0.4)\n",
        "ax1.set_title(\"Precision per class\")\n",
        "\n",
        "ax2.bar(classes, recall, color ='maroon', width = 0.4)\n",
        "ax2.set_title(\"Recall per class\")\n",
        "\n",
        "ax3.bar(classes, F1_score, color ='maroon', width = 0.4)\n",
        "ax3.set_title(\"F1 score per class\")\n",
        "\n",
        "plt.show()"
      ],
      "metadata": {
        "colab": {
          "base_uri": "https://localhost:8080/",
          "height": 444
        },
        "id": "y2NLPmI_kkH2",
        "outputId": "916d5790-21ff-4e17-9926-fff35c8f2fc8"
      },
      "execution_count": 25,
      "outputs": [
        {
          "output_type": "display_data",
          "data": {
            "text/plain": [
              "<Figure size 1440x504 with 3 Axes>"
            ],
            "image/png": "[encoded data removed]"
          },
          "metadata": {
            "needs_background": "light"
          }
        }
      ]
    },
    {
      "cell_type": "code",
      "source": [
        "# Display a random batch as prediction example\n",
        "\n",
        "# function to unnormalize and show images\n",
        "def imshow(img):\n",
        "    img = img / 2 + 0.5     # unnormalize\n",
        "    npimg = img.numpy()\n",
        "    plt.imshow(np.transpose(npimg, (1, 2, 0)))\n",
        "    plt.show()\n",
        "\n",
        "\n",
        "# get some random training images\n",
        "dataiter = iter(train_data)\n",
        "images, labels = dataiter.next()\n",
        "\n",
        "# show images\n",
        "imshow(make_grid(images))\n",
        "\n",
        "# print labels\n",
        "print(' '.join(f'{classes[labels[j]]:5s}' for j in range(batch_size)))"
      ],
      "metadata": {
        "colab": {
          "base_uri": "https://localhost:8080/",
          "height": 173
        },
        "id": "VogPoOI_0sW9",
        "outputId": "6800c60b-ee35-46b7-a3d3-fb0f1ba9b0b3"
      },
      "execution_count": null,
      "outputs": [
        {
          "output_type": "display_data",
          "data": {
            "text/plain": [
              "<Figure size 432x288 with 1 Axes>"
            ],
            "image/png": "[encoded data removed]"
          },
          "metadata": {
            "needs_background": "light"
          }
        },
        {
          "output_type": "display_data",
          "data": {
            "text/plain": [
              "<Figure size 6400x5520 with 0 Axes>"
            ]
          },
          "metadata": {}
        },
        {
          "output_type": "stream",
          "name": "stdout",
          "text": [
            "frog  truck bird  horse\n"
          ]
        }
      ]
    }
  ]
}